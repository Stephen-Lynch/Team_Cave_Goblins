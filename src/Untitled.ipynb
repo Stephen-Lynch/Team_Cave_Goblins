{
 "cells": [
  {
   "cell_type": "code",
   "execution_count": 39,
   "metadata": {},
   "outputs": [],
   "source": [
    "import pandas as pd \n",
    "import numpy as np\n",
    "import matplotlib.pyplot as plt \n",
    "\n",
    "import sys\n",
    "import numpy as np\n",
    "from surprise import AlgoBase, Dataset\n",
    "from surprise.model_selection.validation import cross_validate\n",
    "import pandas as pd\n",
    "\n",
    "from scipy.sparse import csr_matrix\n",
    "\n",
    "import pyspark\n",
    "from pyspark.sql.types import *\n",
    "from pyspark.ml.tuning import TrainValidationSplit\n",
    "from pyspark.ml.recommendation import ALS\n",
    "from pyspark.ml.evaluation import RegressionEvaluator\n",
    "from sklearn.metrics.pairwise import cosine_similarity\n",
    "\n",
    "\n",
    "# Build our Spark Session and Context\n",
    "spark = pyspark.sql.SparkSession.builder.getOrCreate()\n",
    "sc = spark.sparkContext\n",
    "spark, sc\n",
    "\n",
    "\n",
    "from pyspark.sql.functions import lit\n",
    "from pyspark.sql.types import StructType, StructField, IntegerType\n",
    "from pyspark.sql.functions import countDistinct, col"
   ]
  },
  {
   "cell_type": "code",
   "execution_count": 25,
   "metadata": {},
   "outputs": [],
   "source": [
    "import matplotlib.pyplot as plt\n",
    "%matplotlib inline\n",
    "\n",
    "schema = StructType([\n",
    "    StructField(\"user\", IntegerType(), True),\n",
    "    StructField(\"movie\", IntegerType(), True),\n",
    "    StructField(\"rating\", FloatType(), True),\n",
    "    StructField(\"timestamp\", IntegerType(), True)])"
   ]
  },
  {
   "cell_type": "code",
   "execution_count": 26,
   "metadata": {},
   "outputs": [],
   "source": [
    "df_ratings = spark.read.csv('../data/ml-latest-small/ratings.csv', sep =',', header=True, schema=schema)\n",
    "df_ratings = df_ratings.drop('timestamp')"
   ]
  },
  {
   "cell_type": "code",
   "execution_count": 52,
   "metadata": {},
   "outputs": [
    {
     "name": "stdout",
     "output_type": "stream",
     "text": [
      "+----+-----+------+\n",
      "|user|movie|rating|\n",
      "+----+-----+------+\n",
      "|   1|    1|   4.0|\n",
      "|   1|    3|   4.0|\n",
      "|   1|    6|   4.0|\n",
      "|   1|   47|   5.0|\n",
      "|   1|   50|   5.0|\n",
      "|   1|   70|   3.0|\n",
      "|   1|  101|   5.0|\n",
      "|   1|  110|   4.0|\n",
      "|   1|  151|   5.0|\n",
      "|   1|  157|   5.0|\n",
      "|   1|  163|   5.0|\n",
      "|   1|  216|   5.0|\n",
      "|   1|  223|   3.0|\n",
      "|   1|  231|   5.0|\n",
      "|   1|  235|   4.0|\n",
      "|   1|  260|   5.0|\n",
      "|   1|  296|   3.0|\n",
      "|   1|  316|   3.0|\n",
      "|   1|  333|   5.0|\n",
      "|   1|  349|   4.0|\n",
      "+----+-----+------+\n",
      "only showing top 20 rows\n",
      "\n"
     ]
    }
   ],
   "source": [
    "# df = pd.read_csv('../data/ml-latest-small/ratings.csv')\n",
    "# df = df.drop('timestamp', axis = 1)\n",
    "# df = df.pivot_table(values='rating', index='userId', columns='movieId')\n",
    "# df = spark.createDataFrame(df)\n",
    "df_ratings.show()"
   ]
  },
  {
   "cell_type": "code",
   "execution_count": 62,
   "metadata": {},
   "outputs": [
    {
     "data": {
      "text/plain": [
       "array([4. , 5. , 3. , 2. , 1. , 4.5, 3.5, 2.5, 0.5, 1.5], dtype=float32)"
      ]
     },
     "execution_count": 62,
     "metadata": {},
     "output_type": "execute_result"
    }
   ],
   "source": [
    "df = df_ratings.toPandas()\n",
    "df['rating'].unique()"
   ]
  },
  {
   "cell_type": "code",
   "execution_count": 30,
   "metadata": {},
   "outputs": [
    {
     "name": "stdout",
     "output_type": "stream",
     "text": [
      "Number of unique users: 610\n",
      "Number of unique movies: 9724\n",
      "Number of rating: 100836\n"
     ]
    }
   ],
   "source": [
    "print('Number of unique users: {}'.format(df_ratings.select('user').distinct().count()))\n",
    "print('Number of unique movies: {}'.format(df_ratings.select('movie').distinct().count()))\n",
    "print('Number of rating: {}'.format(df_ratings.count()))"
   ]
  },
  {
   "cell_type": "code",
   "execution_count": 31,
   "metadata": {},
   "outputs": [],
   "source": [
    "train, test = df_ratings.randomSplit([0.8, 0.2], seed=100)"
   ]
  },
  {
   "cell_type": "code",
   "execution_count": 49,
   "metadata": {},
   "outputs": [
    {
     "name": "stdout",
     "output_type": "stream",
     "text": [
      "Max Ratings: 2201\n",
      "Min Ratings: 14\n"
     ]
    },
    {
     "data": {
      "text/plain": [
       "<AxesSubplot:>"
      ]
     },
     "execution_count": 49,
     "metadata": {},
     "output_type": "execute_result"
    },
    {
     "data": {
      "image/png": "[encoded data removed]",
      "text/plain": [
       "<Figure size 432x288 with 1 Axes>"
      ]
     },
     "metadata": {
      "needs_background": "light"
     },
     "output_type": "display_data"
    }
   ],
   "source": [
    "user_count = train.groupBy('user').count().toPandas()\n",
    "\n",
    "print('Max Ratings: {}'.format(user_count['count'].max()))\n",
    "print('Min Ratings: {}'.format(user_count['count'].min()))\n",
    "user_count['count'].hist(bins = 100)"
   ]
  },
  {
   "cell_type": "code",
   "execution_count": 50,
   "metadata": {},
   "outputs": [
    {
     "name": "stdout",
     "output_type": "stream",
     "text": [
      "Max Ratings: 264\n",
      "Min Ratings: 1\n"
     ]
    },
    {
     "data": {
      "text/plain": [
       "<AxesSubplot:>"
      ]
     },
     "execution_count": 50,
     "metadata": {},
     "output_type": "execute_result"
    },
    {
     "data": {
      "image/png": "[encoded data removed]",
      "text/plain": [
       "<Figure size 432x288 with 1 Axes>"
      ]
     },
     "metadata": {
      "needs_background": "light"
     },
     "output_type": "display_data"
    }
   ],
   "source": [
    "movie_count = train.groupBy('movie').count().toPandas()\n",
    "\n",
    "print('Max Ratings: {}'.format(movie_count['count'].max()))\n",
    "print('Min Ratings: {}'.format(movie_count['count'].min()))\n",
    "movie_count['count'].hist(bins = 100)"
   ]
  },
  {
   "cell_type": "code",
   "execution_count": 86,
   "metadata": {},
   "outputs": [
    {
     "name": "stdout",
     "output_type": "stream",
     "text": [
      "Max Ratings: 65\n",
      "Min Ratings: 1\n"
     ]
    },
    {
     "data": {
      "image/png": "[encoded data removed]",
      "text/plain": [
       "<Figure size 432x288 with 1 Axes>"
      ]
     },
     "metadata": {
      "needs_background": "light"
     },
     "output_type": "display_data"
    }
   ],
   "source": [
    "movie_count = test.groupBy('movie').count().toPandas()\n",
    "\n",
    "print('Max Ratings: {}'.format(movie_count['count'].max()))\n",
    "print('Min Ratings: {}'.format(movie_count['count'].min()))\n",
    "movie_count['count'].hist(bins = 100)\n",
    "train = train.withColumn(\"imp_rating\", lit(1))"
   ]
  },
  {
   "cell_type": "code",
   "execution_count": 99,
   "metadata": {},
   "outputs": [],
   "source": [
    "als_model = ALS(userCol='user',\n",
    "                itemCol='movie',\n",
    "                ratingCol='rating',\n",
    "                nonnegative=True,\n",
    "                regParam=0.1,\n",
    "                rank=10,\n",
    "               )\n",
    "\n",
    "als = als_model.fit(train)"
   ]
  },
  {
   "cell_type": "code",
   "execution_count": 95,
   "metadata": {},
   "outputs": [
    {
     "ename": "NameError",
     "evalue": "name 'one_row_spark_df' is not defined",
     "output_type": "error",
     "traceback": [
      "\u001b[0;31m---------------------------------------------------------------------------\u001b[0m",
      "\u001b[0;31mNameError\u001b[0m                                 Traceback (most recent call last)",
      "\u001b[0;32m<ipython-input-95-4a5e8ae2bea8>\u001b[0m in \u001b[0;36m<module>\u001b[0;34m\u001b[0m\n\u001b[0;32m----> 1\u001b[0;31m \u001b[0mrecommender_imp\u001b[0m\u001b[0;34m.\u001b[0m\u001b[0mrecommendForUserSubset\u001b[0m\u001b[0;34m(\u001b[0m\u001b[0mone_row_spark_df\u001b[0m\u001b[0;34m,\u001b[0m \u001b[0;36m10\u001b[0m\u001b[0;34m)\u001b[0m\u001b[0;34m.\u001b[0m\u001b[0mcollect\u001b[0m\u001b[0;34m(\u001b[0m\u001b[0;34m)\u001b[0m\u001b[0;34m\u001b[0m\u001b[0;34m\u001b[0m\u001b[0m\n\u001b[0m",
      "\u001b[0;31mNameError\u001b[0m: name 'one_row_spark_df' is not defined"
     ]
    }
   ],
   "source": [
    "recommender_imp.recommendForUserSubset(one_row_spark_df, 10).collect()"
   ]
  },
  {
   "cell_type": "code",
   "execution_count": 105,
   "metadata": {},
   "outputs": [
    {
     "data": {
      "text/html": [
       "<div>\n",
       "<style scoped>\n",
       "    .dataframe tbody tr th:only-of-type {\n",
       "        vertical-align: middle;\n",
       "    }\n",
       "\n",
       "    .dataframe tbody tr th {\n",
       "        vertical-align: top;\n",
       "    }\n",
       "\n",
       "    .dataframe thead th {\n",
       "        text-align: right;\n",
       "    }\n",
       "</style>\n",
       "<table border=\"1\" class=\"dataframe\">\n",
       "  <thead>\n",
       "    <tr style=\"text-align: right;\">\n",
       "      <th></th>\n",
       "      <th>user</th>\n",
       "      <th>movie</th>\n",
       "      <th>rating</th>\n",
       "      <th>prediction</th>\n",
       "    </tr>\n",
       "  </thead>\n",
       "  <tbody>\n",
       "    <tr>\n",
       "      <th>0</th>\n",
       "      <td>91</td>\n",
       "      <td>471</td>\n",
       "      <td>1.0</td>\n",
       "      <td>2.866915</td>\n",
       "    </tr>\n",
       "    <tr>\n",
       "      <th>1</th>\n",
       "      <td>603</td>\n",
       "      <td>471</td>\n",
       "      <td>4.0</td>\n",
       "      <td>3.002979</td>\n",
       "    </tr>\n",
       "    <tr>\n",
       "      <th>2</th>\n",
       "      <td>474</td>\n",
       "      <td>471</td>\n",
       "      <td>3.0</td>\n",
       "      <td>3.484408</td>\n",
       "    </tr>\n",
       "    <tr>\n",
       "      <th>3</th>\n",
       "      <td>500</td>\n",
       "      <td>471</td>\n",
       "      <td>1.0</td>\n",
       "      <td>3.184305</td>\n",
       "    </tr>\n",
       "    <tr>\n",
       "      <th>4</th>\n",
       "      <td>387</td>\n",
       "      <td>471</td>\n",
       "      <td>3.0</td>\n",
       "      <td>3.208374</td>\n",
       "    </tr>\n",
       "    <tr>\n",
       "      <th>...</th>\n",
       "      <td>...</td>\n",
       "      <td>...</td>\n",
       "      <td>...</td>\n",
       "      <td>...</td>\n",
       "    </tr>\n",
       "    <tr>\n",
       "      <th>20114</th>\n",
       "      <td>562</td>\n",
       "      <td>84374</td>\n",
       "      <td>3.5</td>\n",
       "      <td>3.297566</td>\n",
       "    </tr>\n",
       "    <tr>\n",
       "      <th>20115</th>\n",
       "      <td>21</td>\n",
       "      <td>107449</td>\n",
       "      <td>1.5</td>\n",
       "      <td>3.501790</td>\n",
       "    </tr>\n",
       "    <tr>\n",
       "      <th>20116</th>\n",
       "      <td>47</td>\n",
       "      <td>145839</td>\n",
       "      <td>3.5</td>\n",
       "      <td>1.539149</td>\n",
       "    </tr>\n",
       "    <tr>\n",
       "      <th>20117</th>\n",
       "      <td>210</td>\n",
       "      <td>147378</td>\n",
       "      <td>4.5</td>\n",
       "      <td>3.305344</td>\n",
       "    </tr>\n",
       "    <tr>\n",
       "      <th>20118</th>\n",
       "      <td>380</td>\n",
       "      <td>147378</td>\n",
       "      <td>3.0</td>\n",
       "      <td>3.588233</td>\n",
       "    </tr>\n",
       "  </tbody>\n",
       "</table>\n",
       "<p>20119 rows × 4 columns</p>\n",
       "</div>"
      ],
      "text/plain": [
       "       user   movie  rating  prediction\n",
       "0        91     471     1.0    2.866915\n",
       "1       603     471     4.0    3.002979\n",
       "2       474     471     3.0    3.484408\n",
       "3       500     471     1.0    3.184305\n",
       "4       387     471     3.0    3.208374\n",
       "...     ...     ...     ...         ...\n",
       "20114   562   84374     3.5    3.297566\n",
       "20115    21  107449     1.5    3.501790\n",
       "20116    47  145839     3.5    1.539149\n",
       "20117   210  147378     4.5    3.305344\n",
       "20118   380  147378     3.0    3.588233\n",
       "\n",
       "[20119 rows x 4 columns]"
      ]
     },
     "execution_count": 105,
     "metadata": {},
     "output_type": "execute_result"
    }
   ],
   "source": [
    "train_df = train.toPandas()\n",
    "predictions = als.transform(test)\n",
    "predictions_df = predictions.toPandas().fillna(train_df['rating'].mean())\n",
    "predictions_df"
   ]
  },
  {
   "cell_type": "code",
   "execution_count": 106,
   "metadata": {},
   "outputs": [],
   "source": [
    "predictions_df['squared_error'] = (predictions_df['rating'] - predictions_df['prediction'])**2"
   ]
  },
  {
   "cell_type": "code",
   "execution_count": null,
   "metadata": {},
   "outputs": [],
   "source": []
  },
  {
   "cell_type": "code",
   "execution_count": 103,
   "metadata": {},
   "outputs": [
    {
     "name": "stdout",
     "output_type": "stream",
     "text": [
      "+----+-----+------+------------------+\n",
      "|user|movie|rating|        prediction|\n",
      "+----+-----+------+------------------+\n",
      "|  91|  471|   1.0| 2.866914749145508|\n",
      "| 603|  471|   4.0| 3.002978563308716|\n",
      "| 474|  471|   3.0| 3.484407663345337|\n",
      "| 500|  471|   1.0|  3.18430495262146|\n",
      "| 387|  471|   3.0|   3.2083740234375|\n",
      "| 469|  471|   5.0|3.8029422760009766|\n",
      "| 426|  471|   5.0|3.3574657440185547|\n",
      "| 357|  471|   3.5|3.7095420360565186|\n",
      "| 609|  833|   3.0| 1.802220344543457|\n",
      "| 159| 1088|   4.0| 2.475374937057495|\n",
      "| 606| 1088|   3.0|3.1313986778259277|\n",
      "| 177| 1088|   3.5|3.3739612102508545|\n",
      "| 479| 1088|   4.0| 2.726405620574951|\n",
      "|  64| 1088|   4.0|3.0621793270111084|\n",
      "| 554| 1088|   5.0| 4.083161354064941|\n",
      "| 563| 1088|   4.0|3.4982614517211914|\n",
      "| 594| 1088|   4.5| 4.326696395874023|\n",
      "| 104| 1088|   3.0|3.4089577198028564|\n",
      "| 599| 1342|   2.5|2.0783307552337646|\n",
      "| 312| 1342|   4.0|2.4514541625976562|\n",
      "| 600| 1342|   2.5|1.4002046585083008|\n",
      "|  34| 1580|   2.5| 3.304922580718994|\n",
      "|  28| 1580|   3.0| 2.984204053878784|\n",
      "| 232| 1580|   3.5|3.3947579860687256|\n",
      "|  47| 1580|   1.5|2.3071625232696533|\n",
      "| 355| 1580|   4.0|4.0923895835876465|\n",
      "| 603| 1580|   4.0| 2.553103446960449|\n",
      "| 474| 1580|   4.5|3.1084582805633545|\n",
      "| 164| 1580|   5.0| 4.155643463134766|\n",
      "| 500| 1580|   4.0|3.1256790161132812|\n",
      "| 283| 1580|   4.0|3.3623359203338623|\n",
      "| 359| 1580|   2.0|2.9613990783691406|\n",
      "|  48| 1580|   5.0|3.7775230407714844|\n",
      "| 266| 1580|   3.0|3.0704779624938965|\n",
      "|  19| 1580|   2.0|2.8524255752563477|\n",
      "| 489| 1580|   3.0| 2.550724983215332|\n",
      "| 462| 1580|   4.0|2.4255809783935547|\n",
      "| 202| 1580|   4.0| 3.524005889892578|\n",
      "| 594| 1580|   4.5|4.3603129386901855|\n",
      "| 100| 1580|   4.0|3.5339407920837402|\n",
      "| 555| 1580|   2.0| 3.674436569213867|\n",
      "| 244| 1580|   4.0| 3.525348424911499|\n",
      "| 532| 1580|   5.0| 3.940845489501953|\n",
      "|  69| 1580|   4.0| 4.157573223114014|\n",
      "| 234| 1580|   4.0|3.6220569610595703|\n",
      "| 264| 1580|   4.5|3.2523481845855713|\n",
      "| 167| 1580|   3.5|3.1376068592071533|\n",
      "| 288| 1580|   4.0|3.1084656715393066|\n",
      "|  62| 1580|   3.0|3.9571022987365723|\n",
      "| 352| 1580|   2.5|3.7033023834228516|\n",
      "| 469| 1580|   3.0|3.0095632076263428|\n",
      "| 414| 1580|   4.0| 3.470136880874634|\n",
      "| 334| 1580|   3.5|  3.19638991355896|\n",
      "| 376| 1580|   4.0| 3.749356269836426|\n",
      "|  33| 1580|   3.0|3.0788381099700928|\n",
      "|  68| 1580|   4.0|3.6171441078186035|\n",
      "| 561| 1580|   3.0| 3.424823760986328|\n",
      "| 522| 1580|   4.0|3.5081799030303955|\n",
      "| 149| 1580|   2.0|3.0470221042633057|\n",
      "| 573| 1580|   4.5| 4.200204849243164|\n",
      "| 172| 1580|   3.5|3.6415109634399414|\n",
      "| 399| 1580|   0.5|  4.00659704208374|\n",
      "|  18| 1580|   3.5|3.4905917644500732|\n",
      "| 104| 1580|   3.0|3.2991995811462402|\n",
      "| 187| 1580|   2.0| 2.587606906890869|\n",
      "| 401| 1580|   2.0|3.1747803688049316|\n",
      "| 362| 1591|   4.0| 3.013042688369751|\n",
      "| 599| 1591|   2.5|2.2294254302978516|\n",
      "| 305| 1591|   3.0|2.9426259994506836|\n",
      "|  19| 1591|   2.0|2.0794060230255127|\n",
      "| 217| 1591|   2.0|1.9314370155334473|\n",
      "| 534| 1591|   3.5| 3.260495185852051|\n",
      "| 362| 1645|   5.0| 3.797135353088379|\n",
      "| 182| 1645|   4.5|2.9266610145568848|\n",
      "| 474| 1645|   2.0|2.9956278800964355|\n",
      "| 309| 1645|   1.0| 3.221345901489258|\n",
      "| 590| 1645|   3.0|3.0110433101654053|\n",
      "| 318| 1645|   3.0| 3.571779727935791|\n",
      "| 586| 1645|   3.5| 4.060481548309326|\n",
      "| 391| 1645|   2.0|3.0679025650024414|\n",
      "| 448| 1645|   3.0|2.7120463848114014|\n",
      "|  82| 1645|   2.0| 3.672727584838867|\n",
      "| 113| 1645|   1.0| 2.710611343383789|\n",
      "| 160| 1645|   3.0| 2.736370086669922|\n",
      "|  62| 1645|   5.0| 4.156959533691406|\n",
      "| 354| 1645|   3.5|  3.49080753326416|\n",
      "| 483| 1645|   3.5|3.5196914672851562|\n",
      "| 113| 1829|   3.0| 3.298023223876953|\n",
      "| 108| 1959|   5.0| 4.149526119232178|\n",
      "| 606| 1959|   3.5| 3.349673271179199|\n",
      "| 603| 1959|   3.0|3.2916877269744873|\n",
      "|  70| 1959|   4.5|3.9016318321228027|\n",
      "| 474| 2122|   1.0|2.0945613384246826|\n",
      "| 292| 2122|   1.5|2.6993672847747803|\n",
      "| 571| 2122|   3.0| 3.207448720932007|\n",
      "| 288| 2142|   3.0| 2.570983409881592|\n",
      "|   1| 2366|   4.0|4.2751688957214355|\n",
      "| 603| 2866|   4.0| 3.775014877319336|\n",
      "| 288| 2866|   3.0| 3.361553907394409|\n",
      "| 101| 3175|   4.0| 2.711292266845703|\n",
      "+----+-----+------+------------------+\n",
      "only showing top 100 rows\n",
      "\n"
     ]
    }
   ],
   "source": [
    "evaluator = RegressionEvaluator(metricName=\"rmse\", labelCol=\"rating\",\n",
    "                                predictionCol=\"prediction\")\n",
    "predictions_df.show()"
   ]
  },
  {
   "cell_type": "code",
   "execution_count": 102,
   "metadata": {},
   "outputs": [
    {
     "data": {
      "text/plain": [
       "0.8872708254636175"
      ]
     },
     "execution_count": 102,
     "metadata": {},
     "output_type": "execute_result"
    }
   ],
   "source": [
    "evaluator.evaluate(predictions_df)"
   ]
  },
  {
   "cell_type": "code",
   "execution_count": null,
   "metadata": {},
   "outputs": [],
   "source": []
  }
 ],
 "metadata": {
  "kernelspec": {
   "display_name": "Python 3",
   "language": "python",
   "name": "python3"
  },
  "language_info": {
   "codemirror_mode": {
    "name": "ipython",
    "version": 3
   },
   "file_extension": ".py",
   "mimetype": "text/x-python",
   "name": "python",
   "nbconvert_exporter": "python",
   "pygments_lexer": "ipython3",
   "version": "3.8.6"
  }
 },
 "nbformat": 4,
 "nbformat_minor": 4
}
