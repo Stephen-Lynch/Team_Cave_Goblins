{
 "cells": [
  {
   "cell_type": "code",
   "execution_count": 37,
   "metadata": {},
   "outputs": [],
   "source": [
    "import pandas as pd\n",
    "import numpy as np\n",
    "\"\"\"\n",
    "http://surprise.readthedocs.io/en/stable/building_custom_algo.html\n",
    "\"\"\"\n",
    "import sys\n",
    "from surprise import SVD\n",
    "from surprise import AlgoBase, Dataset\n",
    "from surprise.model_selection.validation import cross_validate\n",
    "import csv\n",
    "import pyspark as ps "
   ]
  },
  {
   "cell_type": "code",
   "execution_count": 30,
   "metadata": {},
   "outputs": [],
   "source": [
    "from src.baselines import GlobalMean\n",
    "from src.baselines import MeanofMeans"
   ]
  },
  {
   "cell_type": "code",
   "execution_count": 34,
   "metadata": {},
   "outputs": [],
   "source": [
    "pd.options.display.max_columns = None \n",
    "df = pd.read_csv('data/ml-latest-small/ratings.csv')"
   ]
  },
  {
   "cell_type": "code",
   "execution_count": 32,
   "metadata": {},
   "outputs": [
    {
     "data": {
      "text/plain": [
       "{'test_rmse': array([1.12586163, 1.12907675, 1.12746819, 1.12330576, 1.12265533]),\n",
       " 'test_mae': array([0.94546941, 0.94680868, 0.94518938, 0.94445842, 0.94160825]),\n",
       " 'fit_time': (0.026734113693237305,\n",
       "  0.04477119445800781,\n",
       "  0.0440373420715332,\n",
       "  0.04224801063537598,\n",
       "  0.04435420036315918),\n",
       " 'test_time': (0.10862898826599121,\n",
       "  0.05927538871765137,\n",
       "  0.05601167678833008,\n",
       "  0.10450530052185059,\n",
       "  0.10132288932800293)}"
      ]
     },
     "execution_count": 32,
     "metadata": {},
     "output_type": "execute_result"
    }
   ],
   "source": [
    "data = Dataset.load_builtin('ml-100k')\n",
    "algo1 = GlobalMean()\n",
    "cross_validate(algo1, data)"
   ]
  },
  {
   "cell_type": "code",
   "execution_count": 35,
   "metadata": {},
   "outputs": [
    {
     "data": {
      "text/plain": [
       "{'test_rmse': array([1.00761809, 1.0250787 , 1.01726204, 1.01950564, 1.0183006 ]),\n",
       " 'test_mae': array([0.82908345, 0.84342927, 0.83916495, 0.84048438, 0.83598259]),\n",
       " 'fit_time': (0.1918652057647705,\n",
       "  0.2066783905029297,\n",
       "  0.20533347129821777,\n",
       "  0.20175504684448242,\n",
       "  0.20173311233520508),\n",
       " 'test_time': (0.33325839042663574,\n",
       "  0.3307762145996094,\n",
       "  0.2821686267852783,\n",
       "  0.3285553455352783,\n",
       "  0.27806591987609863)}"
      ]
     },
     "execution_count": 35,
     "metadata": {},
     "output_type": "execute_result"
    }
   ],
   "source": [
    "algo2 = MeanofMeans()\n",
    "cross_validate(algo2, data)"
   ]
  },
  {
   "cell_type": "code",
   "execution_count": 39,
   "metadata": {},
   "outputs": [
    {
     "data": {
      "text/plain": [
       "{'test_rmse': array([0.9351944 , 0.93175765, 0.93412582, 0.94528301, 0.93076552]),\n",
       " 'test_mae': array([0.73784243, 0.73497872, 0.73608687, 0.7468761 , 0.73397924]),\n",
       " 'fit_time': (4.30214524269104,\n",
       "  4.265996694564819,\n",
       "  4.273732900619507,\n",
       "  4.254408597946167,\n",
       "  4.272735834121704),\n",
       " 'test_time': (0.11916351318359375,\n",
       "  0.16992783546447754,\n",
       "  0.17147040367126465,\n",
       "  0.11447024345397949,\n",
       "  0.17169499397277832)}"
      ]
     },
     "execution_count": 39,
     "metadata": {},
     "output_type": "execute_result"
    }
   ],
   "source": [
    "algo3 = SVD()\n",
    "cross_validate(algo3, data)"
   ]
  },
  {
   "cell_type": "code",
   "execution_count": null,
   "metadata": {},
   "outputs": [],
   "source": []
  },
  {
   "cell_type": "code",
   "execution_count": null,
   "metadata": {},
   "outputs": [],
   "source": []
  },
  {
   "cell_type": "code",
   "execution_count": null,
   "metadata": {},
   "outputs": [],
   "source": []
  }
 ],
 "metadata": {
  "kernelspec": {
   "display_name": "Python 3",
   "language": "python",
   "name": "python3"
  },
  "language_info": {
   "codemirror_mode": {
    "name": "ipython",
    "version": 3
   },
   "file_extension": ".py",
   "mimetype": "text/x-python",
   "name": "python",
   "nbconvert_exporter": "python",
   "pygments_lexer": "ipython3",
   "version": "3.8.6"
  }
 },
 "nbformat": 4,
 "nbformat_minor": 4
}
